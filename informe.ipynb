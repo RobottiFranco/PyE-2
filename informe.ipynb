{
 "cells": [
  {
   "cell_type": "markdown",
   "metadata": {},
   "source": [
    "# Informe Tarea 2: Juego de dados\n",
    "\n",
    "## Tabla de contenidos:\n",
    "1. [Introducción](#introduccion)\n",
    "2. [Desarrollo](#desarrollo)\n",
    "    1. [Parte 1](#p1)\n",
    "    2. [Parte 2](#p2)\n",
    "    3. [Parte 3](#p3)\n",
    "    4. [Parte 4](#p4)\n",
    "    5. [Parte 5](#p5)\n",
    "    6. [Parte 6](#p6)\n",
    "4. [Simulaciones](#resultados)\n",
    "    1. [Preparación de datos](#preparacion)\n",
    "    2. [Visualización](#visualizacion)\n",
    "5. [Conclusión](#conclusion)"
   ]
  },
  {
   "cell_type": "markdown",
   "metadata": {},
   "source": [
    "## Introducción<a name=\"introduccion\"></a>\n",
    "\n",
    "El grupo esta conformado por\n",
    " - Leandro Alfonso\n",
    " - Gonzalo Da Silva\n",
    " - Franco Robotti\n",
    " - Amanda Seara\n",
    "\n",
    "\n",
    "<b>Juego de dados:</b>\n",
    "Se desarrolla entre dos jugadores, Juan y María, implica el lanzamiento de dos dados por turnos y el objetivo es acumular la mayor cantidad de puntos posible para ganar la partida.\n",
    "\n",
    "Los puntajes se suman de la siguiente manera:\n",
    " - (4,1) o (1,4), el jugador obtiene 1 punto.\n",
    " - (4,2) o (2,4), el jugador obtiene 2 puntos.\n",
    " - (4,3) o (3,4), el jugador obtiene 3 puntos.\n",
    " - (4,4) o (4,4), el jugador obtiene 4 puntos.\n",
    " - (5,1) o (5,4), el jugador obtiene 5 puntos.\n",
    " - (6,1) o (6,4), el jugador obtiene 6 puntos.\n",
    " - Con cualquier otra combinacion el jugador obtiene 0 puntos.\n",
    "\n",
    "Para comenzar la partida cada jugador tira ambos dados por turno, luego cada jugador tiene la oportunidad de tener otra tirada en dos situaciones:\n",
    "- Si obtiene 0 puntos en su tirada puede lanzar nuevamente ambos dados y tomar ese resultado como su puntaje final en el turno.\n",
    "- Si no obtiene 0 puntos pero decide intentar mejorar su puntaje puede lanzar nuevamente uno de los dados (el que no haya obtenido 4) y cambiar su puntaje final del turno.\n",
    "\n",
    "<b>Estrategia de Juan:</b>\n",
    "- Si obtiene 0 puntos optará por lanzar nuevamente ambos dados.\n",
    "- Si obtiene 1, 2 o 3 puntos optará por lanzar nuevamente uno de los dados.\n",
    "- Si obtiene más de 3 puntos no volverá a lanzar los dados.\n",
    "\n",
    "<b>Estrategia de Maria</b>\n",
    "Matia tiene la ventaja de saber cual es el puntaje final de Juan y actuará arriesgandose o no en base a esto.\n",
    "\n",
    "\n",
    "\n",
    "En este informe, analizaremos la situación desde el punto de vista de la probabilidad y la estadística aplicada ambas estrategias mediante simulaciones del juego y comparación de resultados.\n",
    "\n",
    "## Desarrollo<a name=\"Desarrollo\"></a>\n",
    "Nuestro código se encuentra en el archivo \"<b>main.py</b>\". Es posible ejecutar el archivo con python, el programa que se ejcutará pedirá mediante un input, el número de simulaciones a realizar. (PONER QUE PIDE CUANDO HAYA CODIGO)\n",
    "\n",
    "A continuación detallamos el proceso que seguimos para desarrollar cada una de las partes que el trabajo requería.\n",
    "\n",
    "### Parte 1<a name=\"p1\"></a>\n",
    "<b>Letra:</b>\n",
    "> Explique brevemente por que la estrategia elegida por Juan es razonable para intentar ganar el\n",
    "> juego.\n",
    "\n",
    "<b>Razonamiento:</b>\n",
    "\n",
    "### Parte 2<a name=\"p2\"></a>\n",
    "<b>Letra:</b>\n",
    "> Hallar analiticamente la probabilidad de que Juan obtenga k puntos en este juego, para los valores\n",
    "> k = 1, 2, 3, 4, 5 y 6.\n",
    "\n",
    "<b>Proceso:</b>\n",
    "\n",
    "### Parte 3<a name=\"p3\"></a>\n",
    "<b>Letra:</b>\n",
    "> Diseñar una estrategia de juego para Maria que maximice sus chances de ganar (recuerde que Maria\n",
    "> juega sabiendo el puntaje de Juan).\n",
    "\n",
    "<b>Razonamiento:</b>\n",
    "\n",
    "### Parte 4<a name=\"p4\"></a>\n",
    "<b>Letra:</b>\n",
    "> Escriba una funcion en Python que simule la realizacion de todo el juego entre Juan y Maria. La\n",
    "> funcion debe devolver un cierto dato que indique si hubo victoria de Juan, victoria de Maria, o si\n",
    "> hubo empate en el juego.\n",
    "\n",
    "<b>Proceso:</b>\n",
    "\n",
    "<b>Ejecucion:</b>"
   ]
  },
  {
   "cell_type": "code",
   "execution_count": null,
   "metadata": {
    "vscode": {
     "languageId": "plaintext"
    }
   },
   "outputs": [],
   "source": []
  },
  {
   "cell_type": "markdown",
   "metadata": {},
   "source": [
    "### Parte 5<a name=\"p5\"></a>\n",
    "<b>Letra:</b>\n",
    "> Ejecutar la simulacion del juego n = 1000, n = 10000 y n = 100000 veces y calcular la frecuencia\n",
    "> relativa de los eventos “Juan gana el juego”, “Mar´ıa gana el juego” y “El juego resulta en empate”.\n",
    "\n",
    "<b>Proceso:</b>\n",
    "\n",
    "<b>Ejecucion:</b>\n"
   ]
  },
  {
   "cell_type": "code",
   "execution_count": null,
   "metadata": {
    "vscode": {
     "languageId": "plaintext"
    }
   },
   "outputs": [],
   "source": []
  },
  {
   "cell_type": "markdown",
   "metadata": {},
   "source": [
    "<b>Resultado de las simulaciones:</b>"
   ]
  },
  {
   "cell_type": "markdown",
   "metadata": {},
   "source": [
    "### Parte 6<a name=\"p6\"></a>\n",
    "<b>Letra:</b>\n",
    "\n",
    "> Utilizar las simulaciones realizadas para determinar si Mar´ ıa tiene una ventaja significativa al jugar\n",
    "> este juego.\n",
    "\n",
    "<b>Razonamiento:</b>"
   ]
  },
  {
   "cell_type": "markdown",
   "metadata": {},
   "source": [
    "### Conclusión:"
   ]
  }
 ],
 "metadata": {
  "language_info": {
   "name": "python"
  }
 },
 "nbformat": 4,
 "nbformat_minor": 2
}
