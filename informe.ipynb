{
 "cells": [
  {
   "cell_type": "markdown",
   "metadata": {},
   "source": [
    "# Informe Tarea 2: Juego de dados\n",
    "\n",
    "## Tabla de contenidos:\n",
    "1. [Introducción](#introduccion)\n",
    "2. [Desarrollo](#desarrollo)\n",
    "    1. [Parte 1](#p1)\n",
    "    2. [Parte 2](#p2)\n",
    "    3. [Parte 3](#p3)\n",
    "    4. [Parte 4](#p4)\n",
    "    5. [Parte 5](#p5)\n",
    "    6. [Parte 6](#p6)\n",
    "5. [Conclusión](#conclusion)"
   ]
  },
  {
   "attachments": {},
   "cell_type": "markdown",
   "metadata": {
    "collapsed": false
   },
   "source": [
    "## Introducción<a name=\"introduccion\"></a>\n",
    "\n",
    "El grupo está conformado por\n",
    " - Leandro Alfonso\n",
    " - Gonzalo Da Silva\n",
    " - Franco Robotti\n",
    " - Amanda Seara\n",
    "\n",
    "<b>Juego de dados:</b>\n",
    "Se desarrolla entre dos jugadores, Juan y María, implica el lanzamiento de dos dados por turnos y el objetivo es acumular la mayor cantidad de puntos posible para ganar la partida.\n",
    "\n",
    "Los puntajes se suman de la siguiente manera:\n",
    " - (4,1) o (1,4), el jugador obtiene 1 punto.\n",
    " - (4,2) o (2,4), el jugador obtiene 2 puntos.\n",
    " - (4,3) o (3,4), el jugador obtiene 3 puntos.\n",
    " - (4,4) o (4,4), el jugador obtiene 4 puntos.\n",
    " - (5,1) o (5,4), el jugador obtiene 5 puntos.\n",
    " - (6,1) o (6,4), el jugador obtiene 6 puntos.\n",
    " - Con cualquier otra combinación el jugador obtiene 0 puntos.\n",
    "\n",
    "Para comenzar la partida cada jugador tira ambos dados por turno, luego cada jugador tiene la oportunidad de tener otra tirada en dos situaciones:\n",
    "- Si obtiene 0 puntos en su tirada puede lanzar nuevamente ambos dados y tomar ese resultado como su puntaje final en el turno.\n",
    "- Si no obtiene 0 puntos pero decide intentar mejorar su puntaje puede lanzar nuevamente uno de los dados (el que no haya obtenido 4) y cambiar su puntaje final del turno.\n",
    "\n",
    "<b>Estrategia de Juan:</b>\n",
    "- Si obtiene 0 puntos optará por lanzar nuevamente ambos dados.\n",
    "- Si obtiene 1, 2 o 3 puntos optará por lanzar nuevamente uno de los dados.\n",
    "- Si obtiene más de 3 puntos no volverá a lanzar los dados.\n",
    "\n",
    "<b>Estrategia de Maria</b>\n",
    "Maria tiene la ventaja de saber cuál es el puntaje final de Juan y actuará arriesgándose o no en base a esto.\n",
    "\n",
    "\n",
    "\n",
    "En este informe, analizaremos la situación desde el punto de vista de la probabilidad y la estadística aplicada ambas estrategias mediante simulaciones del juego y comparación de resultados.\n",
    "\n",
    "\n",
    "## Desarrollo<a name=\"desarrollo\"></a>\n",
    "Nuestro código se encuentra en el archivo \"<b>main.py</b>\". Es posible ejecutar el archivo con python, el programa que se ejcutará imprimirá en pantalla\n",
    " - La cantidad de simulaciones\n",
    " - La cantidad relativa de victorias de Juan\n",
    " - La cantidad relativa de victorias de María\n",
    " - La cantidad relativa de empates\n",
    " - La probabilidad de victoria de Juan\n",
    " - La probabilidad de victoria de María\n",
    " - La probabilidad de empate\n",
    "\n",
    "para 1,000, 10,000 y 100,000 simulaciones.\n",
    "\n",
    "A continuación detallamos el proceso que seguimos para desarrollar cada una de las partes que el trabajo requería.\n",
    "\n",
    "### Parte 1<a name=\"p1\"></a>\n",
    "<b>Letra:</b>\n",
    "> Explique brevemente por que la estrategia elegida por Juan es razonable para intentar ganar el\n",
    "> juego.\n",
    "\n",
    "<b>Razonamiento:</b>\n",
    "La estrategia de Juan maximiza sus probabilidades de obtener un puntaje alto mientras minimiza el riesgo de obtener un puntaje bajo. Si obtiene 0 puntos, tiene una segunda oportunidad para mejorar su puntaje. Si obtiene 1, 2 o 3 puntos, puede optar por mejorar su puntaje con un segundo lanzamiento. Solo si obtiene más de 3 puntos se planta, lo que indica que está satisfecho con su puntaje actual.\n",
    "En resumen:\n",
    "-\tSi obtiene 0 puntos, utiliza su segunda tirada de ambos dados.\n",
    "-\tSi obtiene 1, 2 0 3 puntos, utiliza su segunda tirada de ambos dados.\n",
    "-\tSi obtiene >3 puntos, se planta en su puntaje y no utiliza su tirada adicional.\n",
    "\n",
    "Consideramos que es un buen balance entre riesgo y beneficio, ya que si saca por ejemplo, 1 punto, volviendo a tirar el dado distinto de 4, tiene 5/6 chances de mejorar su puntaje y 0/6 de empeorarlo, si saca 2 puntos, 4/6 de mejorarlo y 1/6 de empeorarlo, y si saca 3 puntos, tiene 3/6 chances de mejorarlo y 2/6 de empeorarlo, por lo que siempre tiene mayores chances de mejorarlo. En cambio, si fuera más ambicioso y marcara 5 como su cota mínima en lugar de 4, y sacara 4 puntos, correría más riesgo de empeorar su puntaje (2/6 de mejorarlo y 3/6 de empeorarlo), consideramos que sería demasiado riesgoso.\n",
    "\n",
    "### Parte 2<a name=\"p2\"></a>\n",
    "<b>Letra:</b>\n",
    "> Hallar analíticamente la probabilidad de que Juan obtenga k puntos en este juego, para los valores\n",
    "> k = 1, 2, 3, 4, 5 y 6.\n",
    "\n",
    "<b>Proceso:</b>\n",
    "\n",
    "1.\tPara k=1:\n",
    "\n",
    "Para que Juan obtenga un punto debe pasar uno de los siguientes casos:\n",
    "\n",
    "- Tira ambos dados, saca 0 puntos, vuelve a tirar ambos dados y obtiene (1,4) = P(x,y)*P(1,4|x,y) para todo x,y donde x!=4 e y!=4\n",
    "- Tira ambos dados, saca 0 puntos, vuelve a tirar ambos dados y obtiene (4,1) = P(x,y)*P(4,1|x,y) para todo x,y donde x!=4 e y!=4\n",
    "- Tira ambos dados, saca menos de 4 puntos, vuelve a tirar un dado y obtiene (4,1) = P(x,y)*P(4,1|x,y) para todo x,y donde x=4 e y= 1, 2 o 3 O x=1, 2 o 3 e y=4\n",
    "- Tira ambos dados, saca menos de 4 puntos, vuelve a tirar un dado y obtiene (1,4) = P(x,y)*P(1,4|x,y) para todo x,y donde x=4 e y= 1, 2 o 3 O x=1, 2 o 3 e y=4\n",
    "- Tira ambos dados, saca (1,4), vuelve a tirar el dado que dio 1, y obtiene (1,4) = P(1,4)*P(1,4|1,4)\n",
    "- Tira ambos dados, saca (1,4), vuelve a tirar el dado que dio 1, y obtiene (4,1) = P(1,4)*P(4,1|1,4)\n",
    "- Tira ambos dados, saca (4,1), vuelve a tirar el dado que dio 1, y obtiene (1,4) = P(4,1)*P(1,4|4,1)\n",
    "- Tira ambos dados, saca (4,1), vuelve a tirar el dado que dio 1, y obtiene (4,1) = P(4,1)*P(4,1|4,1)\n",
    "\n",
    "Por lo tanto, la probabilidad de que Juan obtenga 1 punto es la suma de todos esos casos\n",
    "\n",
    "\n",
    "2. Para k=2:\n",
    "\n",
    "Para que Juan obtenga 2 puntos debe pasar uno de los siguientes casos:\n",
    "\n",
    "- Tira ambos dados, saca 0 puntos, vuelve a tirar ambos dados y obtiene (2,4) = P(x,y)*P(2,4|x,y) para todo x,y donde x!=4 e y!=4\n",
    "- Tira ambos dados, saca 0 puntos, vuelve a tirar ambos dados y obtiene (4,2) = P(x,y)*P(4,2|x,y) para todo x,y donde x!=4 e y!=4\n",
    "- Tira ambos dados, saca menos de 4 puntos, vuelve a tirar un dado y obtiene (4,2) = P(x,y)*P(4,2|x,y) para todo x,y donde x=4 e y= 1, 2 o 3 O x=1, 2 o 3 e y=4\n",
    "- Tira ambos dados, saca menos de 4 puntos, vuelve a tirar un dado y obtiene (2,4) = P(x,y)*P(2,4|x,y) para todo x,y donde x=4 e y= 1, 2 o 3 O x=1, 2 o 3 e y=4\n",
    "- Tira ambos dados, saca (2,4), vuelve a tirar el dado que dio 2, y obtiene (2,4) = P(2,4)*P(2,4|2,4)\n",
    "- Tira ambos dados, saca (2,4), vuelve a tirar el dado que dio 2, y obtiene (4,2) = P(2,4)*P(4,2|2,4)\n",
    "- Tira ambos dados, saca (4,2), vuelve a tirar el dado que dio 2, y obtiene (2,4) = P(4,2)*P(2,4|4,2)\n",
    "- Tira ambos dados, saca (4,2), vuelve a tirar el dado que dio 2, y obtiene (4,2) = P(4,2)*P(4,2|4,2)\n",
    "\n",
    "\n",
    "Por lo tanto, la probabilidad de que Juan obtenga 2 puntos es la suma de todos esos casos\n",
    "\n",
    "\n",
    "3.\tPara k=3:\n",
    "\n",
    "Juan puede obtener 3 puntos en los siguientes casos:\n",
    "\n",
    "- Tira ambos dados, saca 0 puntos, vuelve a tirar ambos dados y obtiene (3,4) = P(x,y)*P(3,4|x,y) para todo x,y donde x!=4 e y!=4\n",
    "- Tira ambos dados, saca 0 puntos, vuelve a tirar ambos dados y obtiene (4,3) = P(x,y)*P(4,3|x,y) para todo x,y donde x!=4 e y!=4\n",
    "- Tira ambos dados, saca menos de 4 puntos, vuelve a tirar un dado y obtiene (4,3) = P(x,y)*P(4,3|x,y) para todo x,y donde x=4 e y= 1, 2 o 3 O x=1, 2 o 3 e y=4\n",
    "- Tira ambos dados, saca menos de 4 puntos, vuelve a tirar un dado y obtiene (3,4) = P(x,y)*P(3,4|x,y) para todo x,y donde x=4 e y= 1, 2 o 3 O x=1, 2 o 3 e y=4\n",
    "- Tira ambos dados, saca (3,4), vuelve a tirar el dado que dio 3, y obtiene (3,4) = P(3,4)*P(3,4|3,4)\n",
    "- Tira ambos dados, saca (3,4), vuelve a tirar el dado que dio 3, y obtiene (4,3) = P(3,4)*P(4,3|3,4)\n",
    "- Tira ambos dados, saca (4,3), vuelve a tirar el dado que dio 3, y obtiene (3,4) = P(4,3)*P(3,4|4,3)\n",
    "- Tira ambos dados, saca (4,3), vuelve a tirar el dado que dio 3, y obtiene (4,3) = P(4,3)*P(4,3|4,3)\n",
    "\n",
    "Por lo tanto, la probabilidad de que Juan obtenga 3 puntos es la suma de todos esos casos\n",
    "\n",
    "\n",
    "4.\tPara k=4:\n",
    "\n",
    "Juan puede obtener 4 puntos en los siguientes casos:\n",
    "\n",
    "- Tira ambos dados, saca 0 puntos, vuelve a tirar ambos dados y obtiene (4,4) = P(x,y)*P(4,4|x,y) para todo x,y donde x!=4 y y!=4\n",
    "- Tira ambos dados, saca menos de 4 puntos, vuelve a tirar un dado y obtiene (4,4) = P(x,y)*P(4,4|x,y) para todo x,y donde x=4 e y= 1, 2 o 3 O x=1, 2 o 3 e y=4\n",
    "- Tira ambos dados y obtiene (4,4)\n",
    "\n",
    "Por lo tanto, la probabilidad de que Juan obtenga 4 puntos es la suma de todos esos casos\n",
    "\n",
    "\n",
    "5.\tPara k=5:\n",
    "\n",
    "Juan puede obtener 5 puntos en los siguientes casos:\n",
    "\n",
    "- Tira ambos dados, saca 0 puntos, vuelve a tirar ambos dados y obtiene (5,4) = P(x,y)*P(5,4|x,y) para todo x,y donde x!=4 y y!=4\n",
    "- Tira ambos dados, saca 0 puntos, vuelve a tirar ambos dados y obtiene (4,5) = P(x,y)*P(4,5|x,y) para todo x,y donde x!=4 y y!=4\n",
    "- Tira ambos dados, saca menos de 4 puntos, vuelve a tirar un dado y obtiene (4,5) = P(x,y)*P(4,5|x,y) para todo x,y donde x=4 e y= 1, 2 o 3 O x=1, 2 o 3 e y=4\n",
    "- Tira ambos dados, saca menos de 4 puntos, vuelve a tirar un dado y obtiene (5,4) = P(x,y)*P(5,4|x,y) para todo x,y donde x=4 e y= 1, 2 o 3 O x=1, 2 o 3 e y=4\n",
    "- Tira ambos dados, saca (5,4) = P(5,4)\n",
    "- Tira ambos dados, saca (4,5) = P(4,5)\n",
    "\n",
    "\n",
    "Por lo tanto, la probabilidad de que Juan obtenga 5 puntos es la suma de todos esos casos\n",
    "\n",
    "\n",
    "6.\tPara k=6:\n",
    "\n",
    "Juan puede obtener 6 puntos en los siguientes casos:\n",
    "\n",
    "- Tira ambos dados, saca 0 puntos, vuelve a tirar ambos dados y obtiene (6,4) = P(x,y)*P(6,4|x,y) para todo x,y donde x!=4 y y!=4\n",
    "- Tira ambos dados, saca 0 puntos, vuelve a tirar ambos dados y obtiene (4,5) = P(x,y)*P(4,6|x,y) para todo x,y donde x!=4 y y!=4\n",
    "- Tira ambos dados, saca menos de 4 puntos, vuelve a tirar un dado y obtiene (4,6) = P(x,y)*P(4,6|x,y) para todo x,y donde x=4 e y= 1, 2 o 3 O x=1, 2 o 3 e y=4\n",
    "- Tira ambos dados, saca menos de 4 puntos, vuelve a tirar un dado y obtiene (6,4) = P(x,y)*P(6,4|x,y) para todo x,y donde x=4 e y= 1, 2 o 3 O x=1, 2 o 3 e y=4\n",
    "- Tira ambos dados, saca (6,4) = P(6,4)\n",
    "- Tira ambos dados, saca (4,6) = P(4,6)\n",
    "\n",
    "Por lo tanto, la probabilidad de que Juan obtenga 6 puntos es la suma de todos esos casos\n",
    "\n",
    "\n",
    "### Parte 3<a name=\"p3\"></a>\n",
    "<b>Letra:</b>\n",
    "> Diseñar una estrategia de juego para Maria que maximice sus chances de ganar (recuerde que Maria\n",
    "> juega sabiendo el puntaje de Juan).\n",
    "\n",
    "<b>Razonamiento:</b>\n",
    "Para diseñar una estrategia de juego para María que maximice sus posibilidades de ganar, debemos tener en cuenta el puntaje de Juan, y en base a eso, evaluar si sería productivo tomar el riesgo de tirar los dados nuevamente para intentar mejorar o igualar el puntaje. A continuación, desarrollamos la estrategia que pensamos que sería la mejor para mantener un buen balance riesgo/retorno:\n",
    "\n",
    "1. Tirar ambos dados\n",
    "2. Si el puntaje es 0, tirar ambos dados devuelta, dejando todo en manos de la suerte para lograr algún punto, en este caso no nos sirve el dato de la cantidad de puntos que Juan logró en su turno.\n",
    "3. Si el puntaje es mayor a 0 y el puntaje de Juan es mayor al conseguido, tirar nuevamente el dado que no es 4.\n",
    "4. Si el puntaje es mayor o igual al de Juan, no tomar el riesgo de tirar nuevamente los dados.\n",
    "\n",
    "### Parte 4<a name=\"p4\"></a>\n",
    "<b>Letra:</b>\n",
    "> Escriba una funcion en Python que simule la realizacion de todo el juego entre Juan y Maria. La\n",
    "> funcion debe devolver un cierto dato que indique si hubo victoria de Juan, victoria de Maria, o si\n",
    "> hubo empate en el juego.\n",
    "\n",
    "\n",
    "<b>Proceso:</b>\n",
    "\n",
    "Dividimos las distintas partes del fuego en varias funciones y la llamamos según las precisemos. A continuación listamos las funciones que utilizamos:\n",
    "\n",
    "\n",
    "1. <b>simular_juego()</b>: Esta función simula una única ronda del juego de dados entre Juan y María. Comienza llamando a las funciones tirar_dados_juan() y tirar_dados_maria() para simular los turnos de cada jugador. Después de eso, determina quién es el ganador comparando los puntajes finales de Juan y María. Devuelve un valor que indica el resultado de la partida: 1 si gana Juan, 2 si gana María, y 0 si hay empate."
   ]
  },
  {
   "cell_type": "code",
   "execution_count": 1,
   "metadata": {
    "collapsed": false,
    "is_executing": true
   },
   "outputs": [
    {
     "data": {
      "text/plain": [
       "0"
      ]
     },
     "execution_count": 1,
     "metadata": {},
     "output_type": "execute_result"
    }
   ],
   "source": [
    "from main import simular_juego\n",
    "\n",
    "simular_juego()"
   ]
  },
  {
   "cell_type": "markdown",
   "metadata": {
    "collapsed": false
   },
   "source": [
    "\n",
    "2. <b>tirar_dados_juan()</b>: Esta función simula el turno de Juan en el juego. Simula un lanzamiento de dados, calcula el puntaje obtenido y, si obtuvo 0 puntos, tira nuevamente los dados, si obtuvo menos de 4 puntos, tira nuevamente el dado distinto de 4 y actualiza su puntaje final. Devuelve el puntaje de Juan tras su segundo lanzamiento."
   ]
  },
  {
   "cell_type": "code",
   "execution_count": 2,
   "metadata": {
    "collapsed": false,
    "is_executing": true
   },
   "outputs": [
    {
     "data": {
      "text/plain": [
       "0"
      ]
     },
     "execution_count": 2,
     "metadata": {},
     "output_type": "execute_result"
    }
   ],
   "source": [
    "from main import tirar_dados_juan\n",
    "\n",
    "tirar_dados_juan()"
   ]
  },
  {
   "cell_type": "markdown",
   "metadata": {
    "collapsed": false
   },
   "source": [
    "3. <b>tirar_dados_maria(puntaje_juan)</b>: Esta función simula el turno de María en el juego. Toma como argumento el puntaje final de Juan. Basándose en el puntaje de Juan, simula uno o dos lanzamientos de dados para María y devuelve el puntaje final de María después de ambos lanzamientos."
   ]
  },
  {
   "cell_type": "code",
   "execution_count": 3,
   "metadata": {
    "collapsed": false,
    "is_executing": true
   },
   "outputs": [
    {
     "data": {
      "text/plain": [
       "0"
      ]
     },
     "execution_count": 3,
     "metadata": {},
     "output_type": "execute_result"
    }
   ],
   "source": [
    "from main import tirar_dados_maria\n",
    "\n",
    "# Simular tirada de dados de María, habiendo obtenido 3 puntos Juan\n",
    "tirar_dados_maria(3)"
   ]
  },
  {
   "cell_type": "markdown",
   "metadata": {},
   "source": [
    "\n",
    "4. <b>simular_n_veces(n)</b>: Esta función simula el juego n veces y calcula las frecuencias relativas de los resultados. Toma como argumento el número de veces que se desea simular el juego. Itera n veces llamando a simular_juego() en cada iteración y contabiliza las victorias de Juan, las victorias de María y los empates. Luego, calcula las probabilidades de cada resultado y las imprime en pantalla.\n"
   ]
  },
  {
   "cell_type": "code",
   "execution_count": 4,
   "metadata": {
    "is_executing": true,
    "vscode": {
     "languageId": "plaintext"
    }
   },
   "outputs": [
    {
     "name": "stdout",
     "output_type": "stream",
     "text": [
      "Victorias Juan: 380\n",
      "Victorias María: 358\n",
      "Empates: 262\n",
      "Probabilidad de victoria de Juan: 0.38\n",
      "Probabilidad de victoria de María: 0.358\n",
      "Probabilidad de empate: 0.262\n"
     ]
    },
    {
     "data": {
      "text/plain": [
       "{'VICTORIA_JUAN': 380, 'VICTORIA_MARIA': 358, 'EMPATE': 262}"
      ]
     },
     "execution_count": 4,
     "metadata": {},
     "output_type": "execute_result"
    }
   ],
   "source": [
    "from main import simular_n_veces\n",
    "\n",
    "# Simula 1_000 rondas entre Juan y María\n",
    "simular_n_veces(1_000)"
   ]
  },
  {
   "cell_type": "markdown",
   "metadata": {
    "collapsed": false
   },
   "source": [
    "### Parte 5<a name=\"p5\"></a>\n",
    "<b>Letra:</b>\n",
    "> Ejecutar la simulacion del juego n = 1000, n = 10000 y n = 100000 veces y calcular la frecuencia\n",
    "> relativa de los eventos “Juan gana el juego”, “Mar´ıa gana el juego” y “El juego resulta en empate”.\n",
    "\n",
    "<b>Proceso:</b>"
   ]
  },
  {
   "cell_type": "code",
   "execution_count": 5,
   "metadata": {
    "collapsed": false,
    "is_executing": true
   },
   "outputs": [
    {
     "name": "stdout",
     "output_type": "stream",
     "text": [
      "Victorias Juan: 352\n",
      "Victorias María: 387\n",
      "Empates: 261\n",
      "Probabilidad de victoria de Juan: 0.352\n",
      "Probabilidad de victoria de María: 0.387\n",
      "Probabilidad de empate: 0.261\n"
     ]
    },
    {
     "data": {
      "image/png": "[encoded data removed]",
      "text/plain": [
       "<Figure size 640x480 with 1 Axes>"
      ]
     },
     "metadata": {},
     "output_type": "display_data"
    }
   ],
   "source": [
    "from main import simular_n_veces\n",
    "import matplotlib.pyplot as plt\n",
    "\n",
    "# Simula 1_000 rondas entre Juan y María\n",
    "n = 1_000\n",
    "resultados = simular_n_veces(n)\n",
    "\n",
    "labels = ['Juan', 'María', 'Empate']\n",
    "sizes = [resultados['VICTORIA_JUAN']*100/n, resultados['VICTORIA_MARIA']*100/n, resultados['EMPATE']*100/n]\n",
    "\n",
    "plt.bar(labels, sizes, width=0.9, color=['red','blue','purple'])\n",
    "plt.axhline(max(sizes), linestyle='dotted', color='black', label=str(max(sizes))+'%')\n",
    "\n",
    "plt.legend(bbox_to_anchor=(1, 1))\n",
    "\n",
    "plt.show()"
   ]
  },
  {
   "cell_type": "code",
   "execution_count": 6,
   "metadata": {
    "collapsed": false,
    "is_executing": true
   },
   "outputs": [
    {
     "name": "stdout",
     "output_type": "stream",
     "text": [
      "Victorias Juan: 3691\n",
      "Victorias María: 3568\n",
      "Empates: 2741\n",
      "Probabilidad de victoria de Juan: 0.3691\n",
      "Probabilidad de victoria de María: 0.3568\n",
      "Probabilidad de empate: 0.2741\n"
     ]
    },
    {
     "data": {
      "image/png": "[encoded data removed]",
      "text/plain": [
       "<Figure size 640x480 with 1 Axes>"
      ]
     },
     "metadata": {},
     "output_type": "display_data"
    }
   ],
   "source": [
    "from main import simular_n_veces\n",
    "import matplotlib.pyplot as plt\n",
    "\n",
    "# Simula 10_000 rondas entre Juan y María\n",
    "n = 10_000\n",
    "resultados = simular_n_veces(n)\n",
    "\n",
    "labels = ['Juan', 'María', 'Empate']\n",
    "sizes = [resultados['VICTORIA_JUAN']*100/n, resultados['VICTORIA_MARIA']*100/n, resultados['EMPATE']*100/n]\n",
    "\n",
    "plt.bar(labels, sizes, width=0.9, color=['red','blue','purple'])\n",
    "plt.axhline(max(sizes), linestyle='dotted', color='black', label=str(max(sizes))+'%')\n",
    "\n",
    "plt.legend(bbox_to_anchor=(1, 1))\n",
    "\n",
    "plt.show()"
   ]
  },
  {
   "cell_type": "code",
   "execution_count": 21,
   "metadata": {
    "collapsed": false,
    "is_executing": true
   },
   "outputs": [
    {
     "name": "stdout",
     "output_type": "stream",
     "text": [
      "Victorias Juan: 36716\n",
      "Victorias María: 36469\n",
      "Empates: 26815\n",
      "Probabilidad de victoria de Juan: 0.36716\n",
      "Probabilidad de victoria de María: 0.36469\n",
      "Probabilidad de empate: 0.26815\n"
     ]
    },
    {
     "data": {
      "image/png": "[encoded data removed]",
      "text/plain": [
       "<Figure size 640x480 with 1 Axes>"
      ]
     },
     "metadata": {},
     "output_type": "display_data"
    }
   ],
   "source": [
    "from main import simular_n_veces\n",
    "import matplotlib.pyplot as plt\n",
    "\n",
    "# Simula 100_000 rondas entre Juan y María\n",
    "n = 100_000\n",
    "resultados = simular_n_veces(n)\n",
    "\n",
    "labels = ['Juan', 'María', 'Empate']\n",
    "sizes = [resultados['VICTORIA_JUAN']*100/n, resultados['VICTORIA_MARIA']*100/n, resultados['EMPATE']*100/n]\n",
    "\n",
    "plt.bar(labels, sizes, width=0.9, color=['red','blue','purple'])\n",
    "plt.axhline(max(sizes), linestyle='dotted', color='black', label=str(max(sizes))+'%')\n",
    "\n",
    "plt.legend(bbox_to_anchor=(1, 1))\n",
    "\n",
    "plt.show()"
   ]
  },
  {
   "cell_type": "markdown",
   "metadata": {},
   "source": [
    "### Parte 6<a name=\"p6\"></a>\n",
    "<b>Letra:</b>\n",
    "> Utilizar las simulaciones realizadas para determinar si María tiene una ventaja significativa al jugar\n",
    "> este juego.\n",
    "\n",
    "<b>Razonamiento:</b>\n",
    "\n",
    "Tras realizar varias simulaciones, vimos que María no presenta realmente alguna ventaja significativa sobre Juan, sino que la diferencia entre Juan y María es mínima, a veces ganando Juan, y otras María, tras realizar cientos de miles de simulaciones. "
   ]
  },
  {
   "cell_type": "markdown",
   "metadata": {},
   "source": [
    "### Conclusión: <a name=\"conclusion\"></a>\n",
    "\n",
    "Al leer la letra y analizar el problema sin detenimiento, la impresión que da es que María debería tener una clara ventaja sobre Juan, ya que sabe cuantos puntos hizo éste y así puede saber cuando arriesgarse y cuando no, para intentar conseguir la cantidad mínima de puntos necesaria para ganarle a Juan, ya que se trata de un juego de superar al oponente, y no de conseguir la mayor cantidad posible de puntos, es decir, si Juan saca 1 punto y María 2, la ganadora de esa ronda es María, y sería lo mismo si María hubiera sacado 6 puntos en ese caso. Sin embargo, al analizar los datos de las simulaciones, podemos ver que la estrategia y la información que maneja María, no son una ventaja real para María, siendo que a veces gana, y pierde casi la misma cantidad, por lo que se basa más en la suerte que en cualquier otro factor.\n"
   ]
  }
 ],
 "metadata": {
  "kernelspec": {
   "display_name": "Python 3 (ipykernel)",
   "language": "python",
   "name": "python3"
  },
  "language_info": {
   "codemirror_mode": {
    "name": "ipython",
    "version": 3
   },
   "file_extension": ".py",
   "mimetype": "text/x-python",
   "name": "python",
   "nbconvert_exporter": "python",
   "pygments_lexer": "ipython3",
   "version": "3.12.2"
  }
 },
 "nbformat": 4,
 "nbformat_minor": 4
}
